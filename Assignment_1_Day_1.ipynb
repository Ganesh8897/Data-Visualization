{
  "nbformat": 4,
  "nbformat_minor": 0,
  "metadata": {
    "colab": {
      "name": "Assignment-1-Day-1.ipynb",
      "private_outputs": true,
      "provenance": [],
      "collapsed_sections": [],
      "authorship_tag": "ABX9TyO+cz76E7ySOWYX8Ls1rH7Y",
      "include_colab_link": true
    },
    "kernelspec": {
      "name": "python3",
      "display_name": "Python 3"
    },
    "language_info": {
      "name": "python"
    }
  },
  "cells": [
    {
      "cell_type": "markdown",
      "metadata": {
        "id": "view-in-github",
        "colab_type": "text"
      },
      "source": [
        "<a href=\"https://colab.research.google.com/github/Ganesh8897/Data-Visualization/blob/main/Assignment_1_Day_1.ipynb\" target=\"_parent\"><img src=\"https://colab.research.google.com/assets/colab-badge.svg\" alt=\"Open In Colab\"/></a>"
      ]
    },
    {
      "cell_type": "code",
      "metadata": {
        "id": "5y7ZMxAmB4jH"
      },
      "source": [
        "import numpy as np"
      ],
      "execution_count": null,
      "outputs": []
    },
    {
      "cell_type": "code",
      "metadata": {
        "id": "3C_k6PC6CeUQ"
      },
      "source": [
        "import pandas as pd"
      ],
      "execution_count": null,
      "outputs": []
    },
    {
      "cell_type": "code",
      "metadata": {
        "id": "XFj8hsXnClBL"
      },
      "source": [
        "import seaborn as sns"
      ],
      "execution_count": null,
      "outputs": []
    },
    {
      "cell_type": "code",
      "metadata": {
        "id": "5cS3JLLfCoJB"
      },
      "source": [
        "import matplotlib as mpl"
      ],
      "execution_count": null,
      "outputs": []
    },
    {
      "cell_type": "code",
      "metadata": {
        "id": "fVoVKVXaCrN4"
      },
      "source": [
        "import matplotlib.pyplot as plt\n",
        "%matplotlib inline"
      ],
      "execution_count": null,
      "outputs": []
    },
    {
      "cell_type": "markdown",
      "metadata": {
        "id": "SU26YrkgDaHa"
      },
      "source": [
        ""
      ]
    },
    {
      "cell_type": "markdown",
      "metadata": {
        "id": "ar13W0rpDcym"
      },
      "source": [
        "# **QUESTION-1**\n",
        "plot a graph between x and y"
      ]
    },
    {
      "cell_type": "code",
      "metadata": {
        "id": "awxP74UqC30Y"
      },
      "source": [
        "x=np.arange(0,10)\n",
        "y=x*x\n",
        "plt.plot(x,y,'ro--',linewidth=2,markersize=5)\n",
        "plt.title('Graph between x and y')\n",
        "plt.xlabel('x')\n",
        "plt.ylabel('y')\n",
        "plt.show()\n"
      ],
      "execution_count": null,
      "outputs": []
    },
    {
      "cell_type": "markdown",
      "metadata": {
        "id": "UPumF1RqDlXO"
      },
      "source": [
        ""
      ]
    },
    {
      "cell_type": "markdown",
      "metadata": {
        "id": "vgDAhEsNDnLF"
      },
      "source": [
        "# ***QUESTION 2***\n",
        " plot a line plot between a and b"
      ]
    },
    {
      "cell_type": "code",
      "metadata": {
        "id": "4EJr4pXpC_6Q"
      },
      "source": [
        "a=np.arange(40,50)\n",
        "b=np.arange(50,60)\n",
        "plt.plot(a,b,'ro--',linewidth=2,markersize=5)\n",
        "plt.title('LINE PLOT BETWEEN a AND b')\n",
        "plt.xlabel('a')\n",
        "plt.ylabel('b')\n",
        "plt.show()"
      ],
      "execution_count": null,
      "outputs": []
    },
    {
      "cell_type": "markdown",
      "metadata": {
        "id": "VGvnJ5rWD2lO"
      },
      "source": [
        "# **QUESTION-3**\n",
        "Plot a line plot showing the sales trend of company 1 and 2"
      ]
    },
    {
      "cell_type": "code",
      "metadata": {
        "id": "26Um5h_iDJjf"
      },
      "source": [
        "days = [1,2,3,4,5,6,7] #days of the week\n",
        "sales_1 = [160,150,140,145,175,165,180] # company 1 sales \n",
        "sales_2 = [70,90,160,150,140,145,175]  # company 2 sales \n",
        "plt.title(\"Distribution of Sales Trends of Company 1 & 2\")\n",
        "plt.plot(days, sales_1,'b*-',color='g' , label = 'Company 1 Sales')\n",
        "plt.plot(days, sales_2,'b*-',color='r' , label = 'Company 2 Sales')\n",
        "plt.xlabel(\"Days of the week\")\n",
        "plt.ylabel(\"Company Sales\")\n",
        "plt.legend(loc='lower right')\n",
        "plt.show()"
      ],
      "execution_count": null,
      "outputs": []
    },
    {
      "cell_type": "markdown",
      "metadata": {
        "id": "DrM2KC_EEMrw"
      },
      "source": [
        "# Question 4\n",
        " Create a 3 by 3 subplots"
      ]
    },
    {
      "cell_type": "code",
      "metadata": {
        "id": "K7zAMPsHDTox"
      },
      "source": [
        "\n",
        "\n",
        "x = [1,2,3,4]\n",
        "y1 = [4,3,2,1]\n",
        "y2 = [10,20,30,40]\n",
        "y3 = [40,30,20,10]\n",
        "y4 = [1,2,1,2]\n",
        "y5 = [40,70,90,70]\n",
        "\n",
        "plt.suptitle('Subplots:',fontsize=17)\n",
        "\n",
        "plt.subplot(3,3,1)\n",
        "plt.plot(x,y1,'r-')\n",
        "plt.xlabel('x')\n",
        "plt.ylabel('y1')\n",
        "\n",
        "plt.subplot(3,3,2)\n",
        "plt.plot(x,y2,'g*-')\n",
        "plt.xlabel('x')\n",
        "plt.ylabel('y2')\n",
        "\n",
        "plt.subplot(3,3,3)\n",
        "plt.plot(x,y3,'r--')\n",
        "plt.xlabel('x')\n",
        "plt.ylabel('y3')\n",
        "\n",
        "plt.subplot(3,3,4)\n",
        "plt.plot(x,y4,'bo--')\n",
        "plt.xlabel('x')\n",
        "plt.ylabel('y4')\n",
        "\n",
        "plt.subplot(3,3,5)\n",
        "plt.plot(x,y5,'y*--')\n",
        "plt.xlabel('x')\n",
        "plt.ylabel('y5')\n",
        "plt.show()"
      ],
      "execution_count": null,
      "outputs": []
    }
  ]
}